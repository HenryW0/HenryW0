{
 "cells": [
  {
   "cell_type": "code",
   "execution_count": 97,
   "metadata": {},
   "outputs": [],
   "source": [
    "import numpy as np\n",
    "\n",
    "N = 10000 #Number of slices\n",
    "\n",
    "def f(t): #Define the exact function which you want to approximate\n",
    "    return np.e**(-t**2)\n",
    "    \n",
    "def trap(f, a, b, N): #Approximate using starting point of 0 and end point of 1, with N slices\n",
    "    \n",
    "    Step = (b - a) / N #Definition of step size\n",
    "    \n",
    "    I = (1/2) * Step * (f(a) + f(b)) #First part of the approximation\n",
    "    \n",
    "    for i in range(2, N): #Loop to approximate the other slices from 2 to N-1\n",
    "        I += Step * f(a + (i * Step)) #Add each trapezoid equal to the step size * f(x_i) each time\n",
    "        \n",
    "    return I"
   ]
  },
  {
   "cell_type": "code",
   "execution_count": 98,
   "metadata": {},
   "outputs": [
    {
     "name": "stdout",
     "output_type": "stream",
     "text": [
      "0.746724132200294\n"
     ]
    }
   ],
   "source": [
    "Approx = trap(f,0,1,N) #Call the function with given bounds\n",
    "print(Approx) #Value using trapezoidal method"
   ]
  },
  {
   "cell_type": "code",
   "execution_count": 99,
   "metadata": {},
   "outputs": [],
   "source": [
    "Exact_Value = 0.746824"
   ]
  },
  {
   "cell_type": "code",
   "execution_count": 100,
   "metadata": {},
   "outputs": [
    {
     "name": "stdout",
     "output_type": "stream",
     "text": [
      "0.013372334004538532 % for 10000 terms\n"
     ]
    }
   ],
   "source": [
    "Relative_Error = np.abs(Exact_Value - Approx)/Exact_Value\n",
    "print(f'{Relative_Error * 100} % for {N} terms')"
   ]
  },
  {
   "cell_type": "code",
   "execution_count": null,
   "metadata": {},
   "outputs": [],
   "source": []
  }
 ],
 "metadata": {
  "kernelspec": {
   "display_name": "Python 3",
   "language": "python",
   "name": "python3"
  },
  "language_info": {
   "codemirror_mode": {
    "name": "ipython",
    "version": 3
   },
   "file_extension": ".py",
   "mimetype": "text/x-python",
   "name": "python",
   "nbconvert_exporter": "python",
   "pygments_lexer": "ipython3",
   "version": "3.7.3"
  }
 },
 "nbformat": 4,
 "nbformat_minor": 2
}
